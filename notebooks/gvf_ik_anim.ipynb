{
 "cells": [
  {
   "cell_type": "code",
   "execution_count": null,
   "metadata": {},
   "outputs": [],
   "source": [
    "\"\"\"\\\n",
    "# Copyright (C) 2024 Jesús Bautista Villar <jesbauti20@gmail.com>\n",
    "\"\"\"\n",
    "!python3 --version"
   ]
  },
  {
   "cell_type": "code",
   "execution_count": null,
   "metadata": {},
   "outputs": [],
   "source": [
    "import numpy as np\n",
    "import os\n",
    "import sys\n",
    "from tqdm import tqdm\n",
    "\n",
    "# Graphic tools\n",
    "from mpl_toolkits.axes_grid1.inset_locator import inset_axes, mark_inset\n",
    "import matplotlib.ticker as ticker\n",
    "import matplotlib.pyplot as plt\n",
    "\n",
    "import matplotlib\n",
    "matplotlib.rcParams[\"mathtext.fontset\"] = \"cm\"\n",
    "matplotlib.rc(\"font\", **{\"size\" : 12})\n",
    "\n",
    "# Animation tools\n",
    "from IPython.display import HTML\n",
    "from matplotlib.animation import PillowWriter\n",
    "\n",
    "# -------------------------------------------------------------------------------------\n",
    "\n",
    "# Swarm Systems Lab PySimUtils\n",
    "from ssl_pysimutils import unicycle_patch, createDir, load_data\n",
    "\n",
    "# GVF-IK python project to path \n",
    "module_path = os.path.abspath(os.path.join('..'))\n",
    "if module_path not in sys.path:\n",
    "    sys.path.append(module_path)\n",
    "\n",
    "# Import the GVF-IK simulator\n",
    "from gvf_ik.gvf_traj.gvf_traj_ellipse import gvf_ellipse\n",
    "from gvf_ik.simulator import simulator\n",
    "\n",
    "# Import the animation classes\n",
    "from gvf_ik.animations import AnimationXY, AnimationXYPhi, AnimationTelemetry\n",
    "\n",
    "# -------------------------------------------------------------------------------------\n",
    "\n",
    "# Data and output directories\n",
    "DATA_PATH = os.path.join(\"..\", \"data\")\n",
    "OUTPUT_PATH = os.path.join(\"..\", \"output\")\n",
    "\n",
    "createDir(OUTPUT_PATH)\n",
    "\n",
    "E = np.array([[0, 1],[-1, 0]])"
   ]
  },
  {
   "cell_type": "markdown",
   "metadata": {},
   "source": [
    "## ICRA video animations"
   ]
  },
  {
   "cell_type": "markdown",
   "metadata": {},
   "source": [
    "### Animation of the simulation"
   ]
  },
  {
   "cell_type": "code",
   "execution_count": null,
   "metadata": {},
   "outputs": [],
   "source": [
    "# Initial state of the robot\n",
    "p0 = np.array([[200,-200]])\n",
    "v0 = np.array([14])\n",
    "phi0 = np.array([-90])\n",
    "\n",
    "x0 = [p0,v0,phi0]\n",
    "\n",
    "# Generate the trajectory to be followed\n",
    "a, b = 100, 70\n",
    "XYoff, alpha = [0, 0], 0\n",
    "\n",
    "gvf_traj = gvf_ellipse(XYoff,alpha,a,b)\n",
    "\n",
    "# Generating the simulator class\n",
    "dt = 0.1\n",
    "\n",
    "s = 1\n",
    "ke = 0.35\n",
    "kn = 1\n",
    "\n",
    "A, omega = 0, 0\n",
    "sim = simulator(gvf_traj, x0=x0, dt=dt, s=s, ke=ke, kn=kn, A_fd=A, omega_fd=omega)\n",
    "\n",
    "# ----------------------------------------------------------------------\n",
    "# Execute the simulation given a desired final time stamp\n",
    "# ----------------------------------------------------------------------\n",
    "tf = 50\n",
    "\n",
    "t_list = np.arange(0, tf, dt)\n",
    "for it in tqdm(range(len(t_list))):\n",
    "    sim.int_euler()"
   ]
  },
  {
   "cell_type": "code",
   "execution_count": null,
   "metadata": {},
   "outputs": [],
   "source": [
    "animator = AnimationXY(gvf_traj, sim.data, fps=60, dpi=300, figsize=(7,6), \n",
    "                       xlims=[-200,200], ylims=[-200,200])\n",
    "\n",
    "anim = animator.gen_animation()\n",
    "HTML(anim.to_html5_video()) # It takes a loooot of time..."
   ]
  },
  {
   "cell_type": "code",
   "execution_count": null,
   "metadata": {},
   "outputs": [],
   "source": [
    "animator = AnimationXYPhi(gvf_traj, sim.data, sim.ke, A, omega,\n",
    "                          fps=60, dpi=300, figsize=(15,8), \n",
    "                          xlims=[-200,250], ylims=[-250,150], wait_period=3)\n",
    "\n",
    "anim = animator.gen_animation()\n",
    "HTML(anim.to_html5_video()) # It takes a loooot of time..."
   ]
  },
  {
   "cell_type": "markdown",
   "metadata": {},
   "source": [
    "### Animation of the telemetry data"
   ]
  },
  {
   "cell_type": "markdown",
   "metadata": {},
   "source": [
    "#### Experiment 1"
   ]
  },
  {
   "cell_type": "code",
   "execution_count": null,
   "metadata": {},
   "outputs": [],
   "source": [
    "# Loading data\n",
    "t0, tf, t0_cond, ke, kn = 1600+88, 1600+88+100, 8, 0.25, 0.6\n",
    "\n",
    "filename = \"24_09_11__10_04_38.csv\"\n",
    "\n",
    "data = load_data(os.path.join(DATA_PATH, filename), t0, tf)\n",
    "\n",
    "# Hard code the followed trajectory\n",
    "a, b = 100,100\n",
    "XYoff, alpha = [-365, 254.2], 0\n",
    "gvf_traj = gvf_ellipse(XYoff,alpha,a,b)\n",
    "\n",
    "# Predicted data simulator parameters\n",
    "sim_kw_args = {\"gvf_traj\": gvf_traj, \"s\":1, \n",
    "               \"ke\":ke, \"kn\":kn, \"A_fd\":0, \"omega_fd\":0}"
   ]
  },
  {
   "cell_type": "code",
   "execution_count": null,
   "metadata": {},
   "outputs": [],
   "source": [
    "animator = AnimationTelemetry(data, sim_kw_args, dpi=300, figsize=(15,8), \n",
    "                              xlims=[-500,-100], ylims=[0,370], \n",
    "                              fps=60, wait_period=3, anim_tf=None)\n",
    "\n",
    "anim = animator.gen_animation()\n",
    "HTML(anim.to_html5_video()) # It takes a loooot of time..."
   ]
  },
  {
   "cell_type": "markdown",
   "metadata": {},
   "source": [
    "#### Experiment 2"
   ]
  },
  {
   "cell_type": "code",
   "execution_count": null,
   "metadata": {},
   "outputs": [],
   "source": [
    "# Loading data\n",
    "t0, tf, t0_sin, omega = 1250, 1330, 6.55, 0.55  # kn=0.8, ke=0.25\n",
    "\n",
    "filename = \"24_09_11__10_48_44.csv\"\n",
    "\n",
    "data = load_data(os.path.join(DATA_PATH, filename), t0, tf)\n",
    "\n",
    "# Hard code the followed trajectory\n",
    "a, b = 100,100\n",
    "XYoff, alpha = [-365, 254.2], 0\n",
    "gvf_traj = gvf_ellipse(XYoff,alpha,a,b)\n",
    "\n",
    "# Predicted data simulator parameters\n",
    "sim_kw_args = {\"gvf_traj\": gvf_traj, \"s\":1, \n",
    "               \"ke\":0.25, \"kn\":0.8, \"A_fd\":0.1, \"omega_fd\":omega}"
   ]
  },
  {
   "cell_type": "code",
   "execution_count": null,
   "metadata": {},
   "outputs": [],
   "source": [
    "animator = AnimationTelemetry(data, sim_kw_args, A=0.1, omega=omega, t0_sin=t0_sin,\n",
    "                              dpi=100, figsize=(15,8), \n",
    "                              xlims=[XYoff[0]-150,XYoff[0]+150], \n",
    "                              ylims=[XYoff[1]-150,XYoff[1]+150],\n",
    "                              ytick_sep_phi=0.1, ytick_sep_roll=0.2, \n",
    "                              fps=60, wait_period=0, anim_tf=None)\n",
    "\n",
    "anim = animator.gen_animation()\n",
    "HTML(anim.to_html5_video()) # It takes a loooot of time..."
   ]
  }
 ],
 "metadata": {
  "kernelspec": {
   "display_name": "Python 3 (ipykernel)",
   "language": "python",
   "name": "python3"
  },
  "language_info": {
   "codemirror_mode": {
    "name": "ipython",
    "version": 3
   },
   "file_extension": ".py",
   "mimetype": "text/x-python",
   "name": "python",
   "nbconvert_exporter": "python",
   "pygments_lexer": "ipython3",
   "version": "3.10.12"
  },
  "orig_nbformat": 4
 },
 "nbformat": 4,
 "nbformat_minor": 2
}
